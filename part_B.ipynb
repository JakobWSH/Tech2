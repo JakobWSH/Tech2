{
 "cells": [
  {
   "cell_type": "code",
   "execution_count": 7,
   "id": "a661120a-00a9-4c65-b33b-c8c66d7261d1",
   "metadata": {},
   "outputs": [],
   "source": [
    "import csv\n",
    "import numpy as np\n",
    "from math import sqrt"
   ]
  },
  {
   "cell_type": "code",
   "execution_count": 13,
   "id": "abefa09d-588a-4373-9283-c1e09d3f3349",
   "metadata": {},
   "outputs": [
    {
     "data": {
      "text/plain": [
       "'/Users/jakobw_admin/Desktop/TECH2_assignment'"
      ]
     },
     "execution_count": 13,
     "metadata": {},
     "output_type": "execute_result"
    }
   ],
   "source": [
    "import os\n",
    "os.getcwd()"
   ]
  },
  {
   "cell_type": "code",
   "execution_count": 15,
   "id": "53d2126e-8bae-407a-b9b0-c3b14727abbc",
   "metadata": {},
   "outputs": [
    {
     "name": "stdout",
     "output_type": "stream",
     "text": [
      "Row 0: ['0.6823518632481435', '0.6823518632481435', '0.6823518632481435']\n",
      "Row 1: ['0.053821018802222675', '0.053821018802222675', '0.053821018802222675']\n",
      "Row 2: ['0.22035987277261138', '0.22035987277261138', '0.22035987277261138']\n",
      "Row 3: ['0.1843718106986697', '0.1843718106986697', '0.1843718106986697']\n",
      "Row 4: ['0.17590590108503035', '0.17590590108503035', '0.17590590108503035']\n",
      "Row 5: ['0.8120945066557737', '0.8120945066557737', '0.8120945066557737']\n",
      "Row 6: ['0.9233449980270564', '0.9233449980270564', '0.9233449980270564']\n",
      "Row 7: ['0.27657439779710624', '0.27657439779710624', '0.27657439779710624']\n",
      "Row 8: ['0.8197545615930021', '0.8197545615930021', '0.8197545615930021']\n",
      "Row 9: ['0.8898926931111859', '0.8898926931111859', '0.8898926931111859']\n",
      "Row 10: ['0.5129704552295319', '0.5129704552295319', '0.5129704552295319']\n",
      "Row 11: ['0.24496460106879647', '0.24496460106879647', '0.24496460106879647']\n"
     ]
    }
   ],
   "source": [
    "with open('data.csv', mode='r') as file:\n",
    "    reader = csv.reader(file)\n",
    "    for idx, row in enumerate(reader):\n",
    "        print(f\"Row {idx}: {row}\")\n",
    "        if idx > 10:  # Limit to first 10 rows for a quick check\n",
    "            break"
   ]
  },
  {
   "cell_type": "code",
   "execution_count": 17,
   "id": "5c3f84d7-9e3e-4875-9217-a317cbc63724",
   "metadata": {},
   "outputs": [
    {
     "name": "stdout",
     "output_type": "stream",
     "text": [
      "Column 1: [0.6823518632481435, 0.053821018802222675, 0.22035987277261138, 0.1843718106986697, 0.17590590108503035]\n",
      "Column 2: [0.6823518632481435, 0.053821018802222675, 0.22035987277261138, 0.1843718106986697, 0.17590590108503035]\n",
      "Column 3: [0.6823518632481435, 0.053821018802222675, 0.22035987277261138, 0.1843718106986697, 0.17590590108503035]\n"
     ]
    }
   ],
   "source": [
    "# Read data from 'data.csv'\n",
    "column1, column2, column3 = [], [], []\n",
    "\n",
    "with open('data.csv', mode='r') as file:\n",
    "    reader = csv.reader(file)\n",
    "    \n",
    "    for row in reader:\n",
    "        try:\n",
    "            # Ensure all values are not empty before converting\n",
    "            if row[0] and row[1] and row[2]:\n",
    "                column1.append(float(row[0]))\n",
    "                column2.append(float(row[1]))\n",
    "                column3.append(float(row[2]))\n",
    "        except ValueError:\n",
    "            # Skip rows that cannot be converted\n",
    "            print(f\"Skipping invalid row: {row}\")\n",
    "\n",
    "# Display the first few elements of each column to verify\n",
    "print(\"Column 1:\", column1[:5])\n",
    "print(\"Column 2:\", column2[:5])\n",
    "print(\"Column 3:\", column3[:5])"
   ]
  },
  {
   "cell_type": "code",
   "execution_count": 19,
   "id": "8a3c5fca-19f4-40bf-8157-38df9db4c0d6",
   "metadata": {},
   "outputs": [],
   "source": [
    "def std_loops(x):\n",
    "    N = len(x)\n",
    "    mean = sum(x[i] for i in range(N)) / N\n",
    "    mean_of_squares = sum(x[i] ** 2 for i in range(N)) / N\n",
    "    variance = mean_of_squares - mean ** 2\n",
    "    return sqrt(variance)\n",
    "\n",
    "def std_builtin(x):\n",
    "    N = len(x)\n",
    "    mean = sum(x) / N\n",
    "    mean_of_squares = sum(i ** 2 for i in x) / N\n",
    "    variance = mean_of_squares - mean ** 2\n",
    "    return sqrt(variance)"
   ]
  },
  {
   "cell_type": "code",
   "execution_count": 21,
   "id": "d30b7375-44ba-4867-a001-af4f6496cb5b",
   "metadata": {},
   "outputs": [
    {
     "data": {
      "text/html": [
       "<div>\n",
       "<style scoped>\n",
       "    .dataframe tbody tr th:only-of-type {\n",
       "        vertical-align: middle;\n",
       "    }\n",
       "\n",
       "    .dataframe tbody tr th {\n",
       "        vertical-align: top;\n",
       "    }\n",
       "\n",
       "    .dataframe thead th {\n",
       "        text-align: right;\n",
       "    }\n",
       "</style>\n",
       "<table border=\"1\" class=\"dataframe\">\n",
       "  <thead>\n",
       "    <tr style=\"text-align: right;\">\n",
       "      <th></th>\n",
       "      <th>Sequence 1</th>\n",
       "      <th>Sequence 2</th>\n",
       "      <th>Sequence 3</th>\n",
       "    </tr>\n",
       "  </thead>\n",
       "  <tbody>\n",
       "    <tr>\n",
       "      <th>Loop Method</th>\n",
       "      <td>0.282372</td>\n",
       "      <td>0.282372</td>\n",
       "      <td>0.282372</td>\n",
       "    </tr>\n",
       "    <tr>\n",
       "      <th>Built-in Method</th>\n",
       "      <td>0.282372</td>\n",
       "      <td>0.282372</td>\n",
       "      <td>0.282372</td>\n",
       "    </tr>\n",
       "    <tr>\n",
       "      <th>NumPy Method</th>\n",
       "      <td>0.282372</td>\n",
       "      <td>0.282372</td>\n",
       "      <td>0.282372</td>\n",
       "    </tr>\n",
       "  </tbody>\n",
       "</table>\n",
       "</div>"
      ],
      "text/plain": [
       "                 Sequence 1  Sequence 2  Sequence 3\n",
       "Loop Method        0.282372    0.282372    0.282372\n",
       "Built-in Method    0.282372    0.282372    0.282372\n",
       "NumPy Method       0.282372    0.282372    0.282372"
      ]
     },
     "execution_count": 21,
     "metadata": {},
     "output_type": "execute_result"
    }
   ],
   "source": [
    "sequences = [column1, column2, column3]\n",
    "results = {}\n",
    "\n",
    "# Loop through each sequence and calculate standard deviation using each method\n",
    "for i, seq in enumerate(sequences, start=1):\n",
    "    std_loop_result = std_loops(seq)\n",
    "    std_builtin_result = std_builtin(seq)\n",
    "    std_numpy_result = np.std(seq)\n",
    "    \n",
    "    results[f'Sequence {i}'] = {\n",
    "        'Loop Method': std_loop_result,\n",
    "        'Built-in Method': std_builtin_result,\n",
    "        'NumPy Method': std_numpy_result\n",
    "    }\n",
    "\n",
    "# Display the results\n",
    "import pandas as pd\n",
    "results_df = pd.DataFrame(results)\n",
    "results_df"
   ]
  },
  {
   "cell_type": "code",
   "execution_count": 23,
   "id": "1e887b3a-3900-42b1-ac24-c240bdd895bf",
   "metadata": {},
   "outputs": [
    {
     "name": "stdout",
     "output_type": "stream",
     "text": [
      "Sequence 1:\n",
      "Loop Method:\n",
      "10.5 μs ± 259 ns per loop (mean ± std. dev. of 7 runs, 100,000 loops each)\n",
      "\n",
      "Built-in Method:\n",
      "6.94 μs ± 87.9 ns per loop (mean ± std. dev. of 7 runs, 100,000 loops each)\n",
      "\n",
      "NumPy Method:\n",
      "9.69 μs ± 27.2 ns per loop (mean ± std. dev. of 7 runs, 100,000 loops each)\n",
      "\n",
      "========================================\n",
      "\n",
      "Sequence 2:\n",
      "Loop Method:\n",
      "10.5 μs ± 704 ns per loop (mean ± std. dev. of 7 runs, 100,000 loops each)\n",
      "\n",
      "Built-in Method:\n",
      "6.89 μs ± 6.4 ns per loop (mean ± std. dev. of 7 runs, 100,000 loops each)\n",
      "\n",
      "NumPy Method:\n",
      "9.69 μs ± 80.3 ns per loop (mean ± std. dev. of 7 runs, 100,000 loops each)\n",
      "\n",
      "========================================\n",
      "\n",
      "Sequence 3:\n",
      "Loop Method:\n",
      "10.2 μs ± 41.7 ns per loop (mean ± std. dev. of 7 runs, 100,000 loops each)\n",
      "\n",
      "Built-in Method:\n",
      "6.97 μs ± 174 ns per loop (mean ± std. dev. of 7 runs, 100,000 loops each)\n",
      "\n",
      "NumPy Method:\n",
      "9.64 μs ± 138 ns per loop (mean ± std. dev. of 7 runs, 100,000 loops each)\n",
      "\n",
      "========================================\n",
      "\n"
     ]
    }
   ],
   "source": [
    "for i, seq in enumerate(sequences, start=1):\n",
    "    print(f\"Sequence {i}:\")\n",
    "    \n",
    "    print(\"Loop Method:\")\n",
    "    %timeit std_loops(seq)\n",
    "    \n",
    "    print(\"\\nBuilt-in Method:\")\n",
    "    %timeit std_builtin(seq)\n",
    "    \n",
    "    print(\"\\nNumPy Method:\")\n",
    "    %timeit np.std(seq)\n",
    "    print(\"\\n\" + \"=\"*40 + \"\\n\")"
   ]
  },
  {
   "cell_type": "code",
   "execution_count": null,
   "id": "5f37364d-231f-4e78-a5da-74183d14fdcf",
   "metadata": {},
   "outputs": [],
   "source": [
    "# Conclusion\n",
    "The built-in method was the fastest for all three sequences, taking around 7 microseconds per loop.\n",
    "NumPy was a bit slower, probably because the data was small. The loop method was the slowest.\n",
    "For small datasets, the built-in functions are the most efficient."
   ]
  }
 ],
 "metadata": {
  "kernelspec": {
   "display_name": "Python 3 (ipykernel)",
   "language": "python",
   "name": "python3"
  },
  "language_info": {
   "codemirror_mode": {
    "name": "ipython",
    "version": 3
   },
   "file_extension": ".py",
   "mimetype": "text/x-python",
   "name": "python",
   "nbconvert_exporter": "python",
   "pygments_lexer": "ipython3",
   "version": "3.12.4"
  }
 },
 "nbformat": 4,
 "nbformat_minor": 5
}
